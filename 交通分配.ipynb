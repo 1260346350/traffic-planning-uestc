{
 "cells": [
  {
   "cell_type": "code",
   "execution_count": 1,
   "metadata": {},
   "outputs": [],
   "source": [
    "import numpy as np\n",
    "import matplotlib.pyplot as plt"
   ]
  },
  {
   "cell_type": "code",
   "execution_count": 52,
   "metadata": {},
   "outputs": [],
   "source": [
    "l1 = 10\n",
    "l2 = 15\n",
    "l3 = 8\n",
    "max_speed = 60\n",
    "total_q  = 2000\n",
    "capacity = 1800"
   ]
  },
  {
   "cell_type": "code",
   "execution_count": 53,
   "metadata": {},
   "outputs": [],
   "source": [
    "def t1(q):\n",
    "    return l1 / max_speed * (1 + q / capacity)**4\n",
    "\n",
    "def t2(q):\n",
    "    return l2 / max_speed * (1 + q / capacity)**4\n",
    "\n",
    "def t3(q):\n",
    "    return l3 / max_speed * (1 + q / capacity)**4"
   ]
  },
  {
   "cell_type": "code",
   "execution_count": 54,
   "metadata": {},
   "outputs": [],
   "source": [
    "q1 = np.array(range(2001))\n",
    "q2 = np.array(range(2001))\n",
    "Q1, Q2 = np.meshgrid(q1, q2)"
   ]
  },
  {
   "cell_type": "code",
   "execution_count": 55,
   "metadata": {},
   "outputs": [
    {
     "data": {
      "text/plain": [
       "array([[ True,  True,  True, ...,  True,  True,  True],\n",
       "       [ True,  True,  True, ...,  True,  True, False],\n",
       "       [ True,  True,  True, ...,  True, False, False],\n",
       "       ...,\n",
       "       [ True,  True,  True, ..., False, False, False],\n",
       "       [ True,  True, False, ..., False, False, False],\n",
       "       [ True, False, False, ..., False, False, False]])"
      ]
     },
     "execution_count": 55,
     "metadata": {},
     "output_type": "execute_result"
    }
   ],
   "source": [
    "Q1 + Q2 <= 2000"
   ]
  },
  {
   "cell_type": "code",
   "execution_count": 56,
   "metadata": {},
   "outputs": [],
   "source": [
    "def residue(Q1, Q2):\n",
    "    T1 = t1(Q1)\n",
    "    T2 = t2(Q2)\n",
    "    T3 = t3(2000 - Q1 - Q2)\n",
    "    R = np.abs(T1-T2) + np.abs(T2-T3) + np.abs(T3-T1)\n",
    "    R[Q1+Q2>2000] = np.inf\n",
    "    return R"
   ]
  },
  {
   "cell_type": "code",
   "execution_count": 57,
   "metadata": {},
   "outputs": [
    {
     "data": {
      "text/plain": [
       "array([[4.96346085, 4.95714612, 4.95083456, ..., 6.33921097, 6.34676627,\n",
       "        6.35432607],\n",
       "       [4.95788748, 4.95157715, 4.94526998, ..., 6.33980505, 6.34735935,\n",
       "               inf],\n",
       "       [4.95231851, 4.94601258, 4.9397098 , ..., 6.34039814,        inf,\n",
       "               inf],\n",
       "       ...,\n",
       "       [9.64274338, 9.64333745, 9.64393054, ...,        inf,        inf,\n",
       "               inf],\n",
       "       [9.65377928, 9.65437236,        inf, ...,        inf,        inf,\n",
       "               inf],\n",
       "       [9.66482244,        inf,        inf, ...,        inf,        inf,\n",
       "               inf]])"
      ]
     },
     "execution_count": 57,
     "metadata": {},
     "output_type": "execute_result"
    }
   ],
   "source": [
    "R = residue(Q1, Q2)\n",
    "R"
   ]
  },
  {
   "cell_type": "code",
   "execution_count": 61,
   "metadata": {},
   "outputs": [
    {
     "data": {
      "text/plain": [
       "917157"
      ]
     },
     "execution_count": 61,
     "metadata": {},
     "output_type": "execute_result"
    }
   ],
   "source": [
    "idx = R.argmin()\n",
    "idx"
   ]
  },
  {
   "cell_type": "code",
   "execution_count": 59,
   "metadata": {},
   "outputs": [
    {
     "data": {
      "text/plain": [
       "0.0014024123652640608"
      ]
     },
     "execution_count": 59,
     "metadata": {},
     "output_type": "execute_result"
    }
   ],
   "source": [
    "R.min()"
   ]
  },
  {
   "cell_type": "code",
   "execution_count": 62,
   "metadata": {},
   "outputs": [
    {
     "data": {
      "text/plain": [
       "(699, 458)"
      ]
     },
     "execution_count": 62,
     "metadata": {},
     "output_type": "execute_result"
    }
   ],
   "source": [
    "idx%2001, idx//2001"
   ]
  },
  {
   "cell_type": "code",
   "execution_count": 63,
   "metadata": {},
   "outputs": [
    {
     "data": {
      "text/plain": [
       "843"
      ]
     },
     "execution_count": 63,
     "metadata": {},
     "output_type": "execute_result"
    }
   ],
   "source": [
    "2000 - 699 - 458"
   ]
  },
  {
   "cell_type": "code",
   "execution_count": 64,
   "metadata": {},
   "outputs": [
    {
     "data": {
      "text/plain": [
       "(0.6191897432111623, 0.619078524188767, 0.619779730371399)"
      ]
     },
     "execution_count": 64,
     "metadata": {},
     "output_type": "execute_result"
    }
   ],
   "source": [
    "t1(699), t2(458), t3(843)"
   ]
  },
  {
   "cell_type": "code",
   "execution_count": null,
   "metadata": {},
   "outputs": [],
   "source": []
  }
 ],
 "metadata": {
  "language_info": {
   "name": "python"
  }
 },
 "nbformat": 4,
 "nbformat_minor": 2
}
